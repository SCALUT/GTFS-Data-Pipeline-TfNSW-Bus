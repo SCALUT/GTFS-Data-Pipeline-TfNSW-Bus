{
 "cells": [
  {
   "cell_type": "markdown",
   "metadata": {},
   "source": [
    "<p style=\"font-weight:bold; font-size:40px; color:green; line-height:1; margin:0px\">\n",
    "    Smart City Applications in Land Use and Transport (SCALUT)\n",
    "</p>"
   ]
  },
  {
   "cell_type": "markdown",
   "metadata": {},
   "source": [
    "## TfNSW GTFS-R Bus Vehicle Positions"
   ]
  },
  {
   "cell_type": "markdown",
   "metadata": {},
   "source": [
    "<p style=\"font-weight:bold; font-size:24px; color:Gold; line-height:1; margin:4px 0px\">\n",
    "    1.2 Transform .CSV Files\n",
    "</p>"
   ]
  },
  {
   "cell_type": "markdown",
   "metadata": {},
   "source": [
    "<p style=\"font-weight:bold; font-size:18px; color:tomato; line-height:1; margin:4px 0px\">\n",
    "    Housekeeping: Import Libraries/Packages\n",
    "</p>"
   ]
  },
  {
   "cell_type": "code",
   "execution_count": null,
   "metadata": {},
   "outputs": [],
   "source": [
    "import os\n",
    "from datetime import datetime\n",
    "from zipfile import ZipFile\n",
    "import pandas as pd\n",
    "import glob\n",
    "import time\n",
    "from numpy import loadtxt\n",
    "import geopandas as gpd\n",
    "import warnings"
   ]
  },
  {
   "cell_type": "markdown",
   "metadata": {},
   "source": [
    "<p style=\"font-weight:bold; font-size:18px; color:tomato; line-height:1; margin:4px 0px\">\n",
    "    Specify Project Directory and Folders and Define Variables\n",
    "</p>"
   ]
  },
  {
   "cell_type": "code",
   "execution_count": null,
   "metadata": {},
   "outputs": [],
   "source": [
    "## Specify the folder that stores the .PB.GZ files to be processed\n",
    "# FileTP = '200901_0000-2400'\n",
    "# FileTP = '201014_0000-2400'\n",
    "# FileTP = '201111_0000-2400'\n",
    "FileTP = 'Test_201014_0800-0805'\n",
    "\n",
    "# ## Specify the GTFS-R file prefix\n",
    "GTFS_VP_Prefix = 'GTFS_VP'\n",
    "\n",
    "## Specify the main directory that stores input and output folders\n",
    "DataDir = r'C:\\OneMetis Dropbox\\@One.IMS\\Datasets\\SCALUT_DW\\TfNSW_GTFS_Buses'\n",
    "\n",
    "## Specifiy the main folders that stores GTFS Static data\n",
    "FldRawStatic = '10_Raw_Static'\n",
    "FileIdStatic = '20200901190900'\n",
    "# FileIdStatic = '20201001191000'\n",
    "# FileIdStatic = '20201014201000'\n",
    "\n",
    "## Specify the main folders that store input and output data\n",
    "# FldRawPB = '10_Raw_PB'\n",
    "FldRawCSVvp = '11_CSV_Raw_VP'\n",
    "FldTransVP = '12_CSV_Transformed_VP'\n",
    "FldClnTU = '13_CSV_Cleaned_Unique_TU'\n",
    "FldNodesLinks = '22_CSV_Fu_Nodes_Links'\n",
    "FldNL_Shp = '22_SHP_Fu_Nodes_Links'\n",
    "FldVP_Shp = '22_SHP_VP_GIS'\n",
    "\n",
    "## Specify the filename and location for the Routes List \n",
    "# FN_RoutesList = 'List_RouteShortNames_SydneyT80.txt'\n",
    "# FN_RoutesList = 'List_RouteShortNames_TheGong.txt'\n",
    "## OR\n",
    "# Flt_Agency = 'Premier Illawarra'\n",
    "# Flt_Agency = 'Transit Systems'"
   ]
  },
  {
   "cell_type": "code",
   "execution_count": null,
   "metadata": {
    "tags": []
   },
   "outputs": [],
   "source": [
    "## Directory Path\n",
    "# DirRawPBvp = DataDir + '/' + FldRawPB + '/' + FileTP\n",
    "DirRawCSVvp = DataDir + '/' + FldRawCSVvp + '/' + FileTP\n",
    "if not os.path.exists(DirRawCSVvp):\n",
    "    os.makedirs(DirRawCSVvp)\n",
    "\n",
    "DirTransVP = DataDir + '/' + FldTransVP + '/' + FileTP\n",
    "if not os.path.exists(DirTransVP):\n",
    "    os.makedirs(DirTransVP)\n",
    "\n",
    "DirVP_Shp = DataDir + '/' + FldVP_Shp + '/' + FileTP\n",
    "if not os.path.exists(DirVP_Shp):\n",
    "    os.makedirs(DirVP_Shp)\n",
    "\n",
    "# File_RoutesList = DataDir + '/' + FN_RoutesList"
   ]
  },
  {
   "cell_type": "markdown",
   "metadata": {},
   "source": [
    "<p style=\"font-weight:bold; font-size:18px; color:tomato; line-height:1; margin:4px 0px\">\n",
    "    Define Functions\n",
    "</p>"
   ]
  },
  {
   "cell_type": "code",
   "execution_count": null,
   "metadata": {},
   "outputs": [],
   "source": [
    "#################################################\n",
    "## Read Raw VP CSV\n",
    "def Read_CSV_Raw_VP(f):\n",
    "    df_CSV_Raw_VP = pd.read_csv(f, sep=',', dtype={'id':'str',\n",
    "                                                   'vehicle.trip.trip_id':'str',\n",
    "                                                   'vehicle.trip.start_time':'str',\n",
    "                                                   'vehicle.trip.start_date':'str',\n",
    "                                                   'vehicle.trip.schedule_relationship':'str',\n",
    "                                                   'vehicle.trip.route_id':'str',\n",
    "                                                   'vehicle.position.latitude':'float',\n",
    "                                                   'vehicle.position.longitude':'float',\n",
    "                                                   'vehicle.position.bearing':'float',\n",
    "                                                   'vehicle.position.speed':'float',\n",
    "                                                   'vehicle.timestamp':'Int64',\n",
    "                                                   'vehicle.congestion_level':'str',\n",
    "                                                   'vehicle.vehicle.id':'str',\n",
    "#                                                    'vehicle.vehicle.[transit_realtime.tfnsw_vehicle_descriptor].air_conditioned':'str', \n",
    "#                                                    'vehicle.vehicle.[transit_realtime.tfnsw_vehicle_descriptor].wheelchair_accessible':'Int64',\n",
    "#                                                    'vehicle.vehicle.[transit_realtime.tfnsw_vehicle_descriptor].vehicle_model':'str',\n",
    "#                                                    'vehicle.vehicle.[transit_realtime.tfnsw_vehicle_descriptor].performing_prior_trip':'str',\n",
    "#                                                    'vehicle.vehicle.[transit_realtime.tfnsw_vehicle_descriptor].special_vehicle_attributes':'Int64',\n",
    "                                                   'vehicle.occupancy_status':'str',\n",
    "                                                   'VPheaderTS':'str',\n",
    "                                                   'vehicle.timestampUTC':'str',\n",
    "                                                   'vehicle.trip.start_DateTimeUTC':'str'},\n",
    "#                                 parse_dates=['vehicle.trip.start_DateTimeUTC']\n",
    "                               )\n",
    "    return(df_CSV_Raw_VP)\n"
   ]
  },
  {
   "cell_type": "code",
   "execution_count": null,
   "metadata": {},
   "outputs": [],
   "source": []
  },
  {
   "cell_type": "code",
   "execution_count": null,
   "metadata": {},
   "outputs": [],
   "source": []
  },
  {
   "cell_type": "markdown",
   "metadata": {},
   "source": [
    "<p style=\"font-weight:bold; font-size:18px; color:tomato; line-height:1; margin:4px 0px\">\n",
    "    FOR ARTEMIS: Combine Complete Raw CSV Files\n",
    "</p>"
   ]
  },
  {
   "cell_type": "code",
   "execution_count": null,
   "metadata": {
    "tags": []
   },
   "outputs": [],
   "source": [
    "## Record Start Time\n",
    "tStart = datetime.now()\n",
    "print('PROCESSING DATA FOR', FileTP, \"...\")\n",
    "print('Time Start:', tStart.isoformat(' ', 'seconds'))\n",
    "\n",
    "## Define File Path\n",
    "PathTransVP = DirTransVP + '/' + GTFS_VP_Prefix + '_' + FileTP + '.csv'\n",
    "PathTransVPshp = DirVP_Shp + '/' + GTFS_VP_Prefix + '_' + FileTP + '.shp'\n",
    "\n",
    "## Check if Transformed VP file exists. Remove if exist.\n",
    "if os.path.exists(PathTransVP):\n",
    "    os.remove(PathTransVP)\n",
    "if os.path.exists(PathTransVPshp):\n",
    "    os.remove(PathTransVPshp)    \n",
    "\n",
    "## concatenate All CSV Files in Folder (add new column with Filename as trace)\n",
    "all_files = glob.glob(os.path.join(DirRawCSVvp, GTFS_VP_Prefix + '*.csv'))\n",
    "\n",
    "iFile = 0\n",
    "df_Con = []\n",
    "\n",
    "for f in all_files:\n",
    "\n",
    "    ## Count File\n",
    "    iFile = iFile + 1\n",
    "\n",
    "    ## Get FullFileName from Path\n",
    "    FullFileName = f.split('\\\\')[-1]\n",
    "    ## FileName exclude Extension\n",
    "    FNexExt = os.path.splitext(FullFileName)[0]\n",
    "    \n",
    "    if iFile == 1:\n",
    "        df_ConVP = Read_CSV_Raw_VP(f)\n",
    "    else:\n",
    "        df_X = Read_CSV_Raw_VP(f)\n",
    "\n",
    "        df_ConVP = pd.concat([df_ConVP, df_X], ignore_index=True)\n",
    "\n",
    "## Export concatenated file to CSV\n",
    "df_ConVP.to_csv(PathTransVP, index=False)\n",
    "print(df_ConVP.shape)\n",
    "\n",
    "## Convert df_ConVP_Flt into Spatial Information\n",
    "gdf_ConVP = gpd.GeoDataFrame(df_ConVP, \n",
    "                             geometry=gpd.points_from_xy(df_ConVP['vehicle.position.longitude'], \n",
    "                                                         df_ConVP['vehicle.position.latitude']),\n",
    "                             crs='EPSG:4326')\n",
    "## Export to SHP File\n",
    "warnings.filterwarnings(\"ignore\")\n",
    "gdf_ConVP.to_file(PathTransVPshp)\n",
    "warnings.resetwarnings()\n",
    "\n",
    "## Record End Time\n",
    "tEnd = datetime.now()\n",
    "print(iFile, 'Files Processed:', tEnd.isoformat(' ', 'seconds') + '; Time Spent:', tEnd-tStart)\n",
    "print('Transformed VP file saved in:', PathTransVP)\n",
    "print('GIS file saved in:', PathTransVPshp)"
   ]
  },
  {
   "cell_type": "code",
   "execution_count": null,
   "metadata": {},
   "outputs": [],
   "source": []
  },
  {
   "cell_type": "markdown",
   "metadata": {},
   "source": [
    "Back to SCALUT TfNSW GTFS <b>[Table of Contents](SCALUT_TfNSW_GTFS_Analysis_TOC_v01.ipynb)</b>"
   ]
  }
 ],
 "metadata": {
  "colab": {
   "name": "GTFS_r_test.ipynb",
   "provenance": []
  },
  "kernelspec": {
   "display_name": "Python 3 (ipykernel)",
   "language": "python",
   "name": "python3"
  },
  "language_info": {
   "codemirror_mode": {
    "name": "ipython",
    "version": 3
   },
   "file_extension": ".py",
   "mimetype": "text/x-python",
   "name": "python",
   "nbconvert_exporter": "python",
   "pygments_lexer": "ipython3",
   "version": "3.8.3"
  },
  "widgets": {
   "application/vnd.jupyter.widget-state+json": {
    "state": {},
    "version_major": 2,
    "version_minor": 0
   }
  }
 },
 "nbformat": 4,
 "nbformat_minor": 4
}
